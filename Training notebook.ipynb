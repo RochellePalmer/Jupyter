{
 "cells": [
  {
   "cell_type": "markdown",
   "metadata": {},
   "source": [
    "# This is a level 1 heading\n",
    "## This is a level 2 heading\n",
    "This is some plain text that forms a paragraph.\n",
    "Add emphasis via **bold** and __bold__, or *italic* and _italic_.\n",
    "Paragraphs must be separated by an empty line.\n",
    "* Sometimes we want to include lists.\n",
    "* Which can be indented.\n",
    "1. Lists can also be numbered.\n",
    "2. For ordered lists.\n",
    "[It is possible to include hyperlinks](https://www.example.com)\n",
    "Inline code uses single backticks: `foo()`, and code blocks use triple backticks:\n",
    "```\n",
    "bar()\n",
    "```\n",
    "Or can be indented by 4 spaces:\n",
    "\n",
    "    foo()"
   ]
  },
  {
   "cell_type": "markdown",
   "metadata": {},
   "source": [
    "# Simple commands in Jupyter"
   ]
  },
  {
   "cell_type": "markdown",
   "metadata": {},
   "source": [
    "Lets write our first Python program! print is a simple program that prints the text on the output screen. The print function is one that is used a lot, in general any output will be the result of a print funtion somewhere in the code."
   ]
  },
  {
   "cell_type": "code",
   "execution_count": 1,
   "metadata": {},
   "outputs": [
    {
     "name": "stdout",
     "output_type": "stream",
     "text": [
      "Hello World\n"
     ]
    }
   ],
   "source": [
    "print (\"Hello World\")"
   ]
  },
  {
   "cell_type": "markdown",
   "metadata": {},
   "source": [
    "We can store variables "
   ]
  },
  {
   "cell_type": "code",
   "execution_count": 2,
   "metadata": {},
   "outputs": [],
   "source": [
    "a = 5"
   ]
  },
  {
   "cell_type": "markdown",
   "metadata": {},
   "source": [
    "Our notebook has now stored that a = 5\n",
    "We can combine multiple lines of code in the one box "
   ]
  },
  {
   "cell_type": "code",
   "execution_count": 3,
   "metadata": {},
   "outputs": [
    {
     "name": "stdout",
     "output_type": "stream",
     "text": [
      "a = 5\n",
      "a = High five\n"
     ]
    }
   ],
   "source": [
    "a = 5\n",
    "print(\"a =\", 5)\n",
    "a = \"High five\"\n",
    "print(\"a =\", a)"
   ]
  },
  {
   "cell_type": "markdown",
   "metadata": {},
   "source": [
    "To begin with th value 5 was assigned to the variable a. Then, the string High five is assigned to the same variable."
   ]
  },
  {
   "cell_type": "code",
   "execution_count": 4,
   "metadata": {},
   "outputs": [
    {
     "name": "stdout",
     "output_type": "stream",
     "text": [
      "a = High five\n"
     ]
    }
   ],
   "source": [
    "print (\"a =\", a)"
   ]
  },
  {
   "cell_type": "markdown",
   "metadata": {},
   "source": [
    "# Simple mathematical functions\n",
    "We can use variables and operators to undertake basic mathematical functions.\n",
    "You can write notes and comments within the code using a preceding # "
   ]
  },
  {
   "cell_type": "code",
   "execution_count": 5,
   "metadata": {},
   "outputs": [
    {
     "name": "stdout",
     "output_type": "stream",
     "text": [
      "x + y = 18\n",
      "x - y = 10\n",
      "x * y = 56\n",
      "x / y = 3.5\n",
      "x // y = 3\n",
      "x % y = 2\n",
      "x ** y = 38416\n"
     ]
    }
   ],
   "source": [
    "x = 14\n",
    "y = 4\n",
    "\n",
    "# Add two operands\n",
    "print('x + y =', x+y) \n",
    "\n",
    "# Subtract right operand from the left\n",
    "print('x - y =', x-y) \n",
    "\n",
    "# Multiply two operands\n",
    "print('x * y =', x*y) \n",
    "\n",
    "# Divide left operand by the right one \n",
    "print('x / y =', x/y) \n",
    "\n",
    "# Floor division (quotient)\n",
    "print('x // y =', x//y) \n",
    "\n",
    "# Remainder of the division of left operand by the right\n",
    "print('x % y =', x%y) \n",
    "\n",
    "# Left operand raised to the power of right (x^y)\n",
    "print('x ** y =', x**y) "
   ]
  },
  {
   "cell_type": "markdown",
   "metadata": {},
   "source": [
    "# User inputs\n",
    "You can get input from a user of your notebook using input() function. for example input hello world into the input box below "
   ]
  },
  {
   "cell_type": "code",
   "execution_count": 6,
   "metadata": {},
   "outputs": [
    {
     "name": "stdout",
     "output_type": "stream",
     "text": [
      "Enter a sentence:hello world\n",
      "The inputted string is: hello world\n"
     ]
    }
   ],
   "source": [
    "    inputString = input('Enter a sentence:')\n",
    "    print('The inputted string is:', inputString)"
   ]
  },
  {
   "cell_type": "markdown",
   "metadata": {},
   "source": [
    "# Lists\n",
    "A list is created by placing all the items (elements) inside a square bracket [] separated by commas.\n",
    "\n",
    "It can have any number of items and they may be of different types"
   ]
  },
  {
   "cell_type": "code",
   "execution_count": 7,
   "metadata": {},
   "outputs": [],
   "source": [
    "    # empty list\n",
    "    my_list = []\n",
    "    # list of integers\n",
    "    my_list = [1, 2, 3]\n",
    "    # list with mixed data types\n",
    "    my_list = [1, \"Hello\", 3.4]"
   ]
  },
  {
   "cell_type": "markdown",
   "metadata": {},
   "source": [
    "When accessing items from a list the first element is designated 0 "
   ]
  },
  {
   "cell_type": "code",
   "execution_count": 9,
   "metadata": {},
   "outputs": [
    {
     "name": "stdout",
     "output_type": "stream",
     "text": [
      "French\n",
      "Polish\n"
     ]
    }
   ],
   "source": [
    "language = [\"French\", \"German\", \"English\", \"Polish\"]\n",
    "\n",
    "# Accessing first element\n",
    "print(language[0])\n",
    "\n",
    "\n",
    "# Accessing fourth element\n",
    "print(language[3])"
   ]
  },
  {
   "cell_type": "markdown",
   "metadata": {},
   "source": [
    "You are able to redefine of change elements in a list"
   ]
  },
  {
   "cell_type": "code",
   "execution_count": 10,
   "metadata": {},
   "outputs": [
    {
     "name": "stdout",
     "output_type": "stream",
     "text": [
      "French\n",
      "German\n"
     ]
    }
   ],
   "source": [
    "language = [\"French\", \"English\", \"Polish\", \"German\"]\n",
    "\n",
    "# Accessing first element\n",
    "print(language[0])\n",
    "\n",
    "\n",
    "# Accessing fourth element\n",
    "print(language[3])"
   ]
  },
  {
   "cell_type": "markdown",
   "metadata": {},
   "source": [
    "# Tuples\n",
    "A Tuple is similar to a list except you cannot change elements of a tuple once it is defined. Whereas in a list, items can be modified. You can create a tuple using () round brackets or the tuple() function "
   ]
  },
  {
   "cell_type": "code",
   "execution_count": 11,
   "metadata": {},
   "outputs": [
    {
     "name": "stdout",
     "output_type": "stream",
     "text": [
      "('French', 'German', 'English', 'Polish')\n"
     ]
    }
   ],
   "source": [
    "language = (\"French\", \"German\", \"English\", \"Polish\")\n",
    "print(language)"
   ]
  },
  {
   "cell_type": "markdown",
   "metadata": {},
   "source": [
    "You can access the elements of a tuple in a similar way to lists. Note that in both lists and tuples "
   ]
  },
  {
   "cell_type": "code",
   "execution_count": 15,
   "metadata": {
    "scrolled": true
   },
   "outputs": [
    {
     "name": "stdout",
     "output_type": "stream",
     "text": [
      "German\n",
      "Polish\n",
      "Polish\n"
     ]
    }
   ],
   "source": [
    "language = (\"French\", \"German\", \"English\", \"Polish\")\n",
    "\n",
    "print(language[1]) #Output: German\n",
    "print(language[3]) #Output: Polish\n",
    "print(language[-1]) # Output: Polish"
   ]
  },
  {
   "cell_type": "markdown",
   "metadata": {},
   "source": [
    "You cannot delete elements of a tuple, however, you can entirely delete a tuple itself using del operator."
   ]
  },
  {
   "cell_type": "code",
   "execution_count": 17,
   "metadata": {},
   "outputs": [],
   "source": [
    "language = (\"French\", \"German\", \"English\", \"Polish\")\n",
    "del language"
   ]
  },
  {
   "cell_type": "markdown",
   "metadata": {},
   "source": [
    "We can then check to see it has been deleted by using the print function"
   ]
  },
  {
   "cell_type": "code",
   "execution_count": 19,
   "metadata": {},
   "outputs": [
    {
     "ename": "NameError",
     "evalue": "name 'language' is not defined",
     "output_type": "error",
     "traceback": [
      "\u001b[1;31m---------------------------------------------------------------------------\u001b[0m",
      "\u001b[1;31mNameError\u001b[0m                                 Traceback (most recent call last)",
      "\u001b[1;32m<ipython-input-19-966a71c1815e>\u001b[0m in \u001b[0;36m<module>\u001b[1;34m\u001b[0m\n\u001b[0;32m      1\u001b[0m \u001b[1;31m# NameError: name 'language' is not defined\u001b[0m\u001b[1;33m\u001b[0m\u001b[1;33m\u001b[0m\u001b[1;33m\u001b[0m\u001b[0m\n\u001b[1;32m----> 2\u001b[1;33m \u001b[0mprint\u001b[0m\u001b[1;33m(\u001b[0m\u001b[0mlanguage\u001b[0m\u001b[1;33m)\u001b[0m\u001b[1;33m\u001b[0m\u001b[1;33m\u001b[0m\u001b[0m\n\u001b[0m",
      "\u001b[1;31mNameError\u001b[0m: name 'language' is not defined"
     ]
    }
   ],
   "source": [
    "# NameError: name 'language' is not defined\n",
    "print(language)"
   ]
  },
  {
   "cell_type": "markdown",
   "metadata": {},
   "source": [
    "# Strings\n",
    "A string is a sequence of characters. Here are different ways to create a string."
   ]
  },
  {
   "cell_type": "code",
   "execution_count": 20,
   "metadata": {},
   "outputs": [
    {
     "name": "stdout",
     "output_type": "stream",
     "text": [
      "Hello\n",
      "Hello\n",
      "Hello\n",
      "Hello, welcome to\n",
      "           the world of Python\n"
     ]
    }
   ],
   "source": [
    "# all of the following are equivalent\n",
    "my_string = 'Hello'\n",
    "print(my_string)\n",
    "\n",
    "my_string = \"Hello\"\n",
    "print(my_string)\n",
    "\n",
    "my_string = '''Hello'''\n",
    "print(my_string)\n",
    "\n",
    "# triple quotes string can extend multiple lines\n",
    "my_string = \"\"\"Hello, welcome to\n",
    "           the world of Python\"\"\"\n",
    "print(my_string)"
   ]
  },
  {
   "cell_type": "markdown",
   "metadata": {},
   "source": [
    "# Dictionaries\n",
    "\n",
    "A Dictionary is an unordered collection of items. While other compound data types have only value as an element, a dictionary works as a key: value pair."
   ]
  },
  {
   "cell_type": "code",
   "execution_count": 21,
   "metadata": {},
   "outputs": [],
   "source": [
    "# empty dictionary\n",
    "my_dict = {}\n",
    "\n",
    "# dictionary with integer keys\n",
    "my_dict = {1: 'apple', 2: 'ball'}\n",
    "\n",
    "# dictionary with mixed keys\n",
    "my_dict = {'name': 'John', 1: [2, 4, 3]}"
   ]
  },
  {
   "cell_type": "markdown",
   "metadata": {},
   "source": [
    "This can be useful to access data points for example"
   ]
  },
  {
   "cell_type": "code",
   "execution_count": 22,
   "metadata": {},
   "outputs": [
    {
     "name": "stdout",
     "output_type": "stream",
     "text": [
      "26\n"
     ]
    }
   ],
   "source": [
    "person = {'name':'Jack', 'age': 26, 'salary': 4534.2}\n",
    "print(person['age'])"
   ]
  },
  {
   "cell_type": "markdown",
   "metadata": {},
   "source": [
    "Some ways of changing, adding , deleting particular terms and deleting the entire dictionary"
   ]
  },
  {
   "cell_type": "code",
   "execution_count": 24,
   "metadata": {},
   "outputs": [
    {
     "name": "stdout",
     "output_type": "stream",
     "text": [
      "{'name': 'Jack', 'age': 36}\n",
      "{'name': 'Jack', 'age': 36, 'salary': 4342.4}\n",
      "{'name': 'Jack', 'salary': 4342.4}\n"
     ]
    }
   ],
   "source": [
    "person = {'name':'Jack', 'age': 26}\n",
    "\n",
    "# Changing age to 36\n",
    "person['age'] = 36 \n",
    "print(person) # Output: {'name': 'Jack', 'age': 36}\n",
    "\n",
    "# Adding salary key, value pair\n",
    "person['salary'] = 4342.4\n",
    "print(person) # Output: {'name': 'Jack', 'age': 36, 'salary': 4342.4}\n",
    "\n",
    "\n",
    "# Deleting age\n",
    "del person['age']\n",
    "print(person) # Output: {'name': 'Jack', 'salary': 4342.4}\n",
    "\n",
    "# Deleting entire dictionary\n",
    "del person"
   ]
  },
  {
   "cell_type": "markdown",
   "metadata": {},
   "source": [
    "# Functions\n",
    "\n",
    "A function is a group of related statements that perform a specific task. You use def keyword to create functions in Python."
   ]
  },
  {
   "cell_type": "code",
   "execution_count": 25,
   "metadata": {},
   "outputs": [
    {
     "name": "stdout",
     "output_type": "stream",
     "text": [
      "I am line1.\n",
      "I am line2.\n"
     ]
    }
   ],
   "source": [
    "def print_lines():\n",
    "  print(\"I am line1.\")\n",
    "  print(\"I am line2.\")\n",
    "\n",
    "# function call\n",
    "print_lines()"
   ]
  },
  {
   "cell_type": "markdown",
   "metadata": {},
   "source": [
    "they can accept arguments "
   ]
  },
  {
   "cell_type": "code",
   "execution_count": 28,
   "metadata": {},
   "outputs": [
    {
     "name": "stdout",
     "output_type": "stream",
     "text": [
      "9\n"
     ]
    }
   ],
   "source": [
    "def add_numbers(a, b):\n",
    "  sum = a + b\n",
    "  print(sum)\n",
    "\n",
    "add_numbers(4, 5)"
   ]
  },
  {
   "cell_type": "code",
   "execution_count": 29,
   "metadata": {},
   "outputs": [
    {
     "name": "stdout",
     "output_type": "stream",
     "text": [
      "Collecting package metadata (current_repodata.json): ...working... done\n",
      "Solving environment: ...working... done\n",
      "\n",
      "## Package Plan ##\n",
      "\n",
      "  environment location: C:\\Users\\rapalme0\\AppData\\Local\\Continuum\\anaconda3\n",
      "\n",
      "  added / updated specs:\n",
      "    - nbconvert\n",
      "\n",
      "\n",
      "The following packages will be downloaded:\n",
      "\n",
      "    package                    |            build\n",
      "    ---------------------------|-----------------\n",
      "    conda-4.7.12               |           py37_0         3.0 MB\n",
      "    ------------------------------------------------------------\n",
      "                                           Total:         3.0 MB\n",
      "\n",
      "The following packages will be UPDATED:\n",
      "\n",
      "  conda                                       4.7.10-py37_0 --> 4.7.12-py37_0\n",
      "\n",
      "\n",
      "\n",
      "Downloading and Extracting Packages\n",
      "\n",
      "conda-4.7.12         | 3.0 MB    |            |   0% \n",
      "conda-4.7.12         | 3.0 MB    |            |   1% \n",
      "conda-4.7.12         | 3.0 MB    | 6          |   6% \n",
      "conda-4.7.12         | 3.0 MB    | ###5       |  35% \n",
      "conda-4.7.12         | 3.0 MB    | ########## | 100% \n",
      "Preparing transaction: ...working... done\n",
      "Verifying transaction: ...working... done\n",
      "Executing transaction: ...working... done\n",
      "\n",
      "Note: you may need to restart the kernel to use updated packages.\n"
     ]
    }
   ],
   "source": [
    "conda install nbconvert"
   ]
  },
  {
   "cell_type": "code",
   "execution_count": null,
   "metadata": {},
   "outputs": [],
   "source": []
  }
 ],
 "metadata": {
  "kernelspec": {
   "display_name": "Python 3",
   "language": "python",
   "name": "python3"
  },
  "language_info": {
   "codemirror_mode": {
    "name": "ipython",
    "version": 3
   },
   "file_extension": ".py",
   "mimetype": "text/x-python",
   "name": "python",
   "nbconvert_exporter": "python",
   "pygments_lexer": "ipython3",
   "version": "3.7.3"
  }
 },
 "nbformat": 4,
 "nbformat_minor": 2
}
